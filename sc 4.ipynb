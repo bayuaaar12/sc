{
  "nbformat": 4,
  "nbformat_minor": 0,
  "metadata": {
    "colab": {
      "provenance": [],
      "toc_visible": true
    },
    "kernelspec": {
      "name": "python3",
      "display_name": "Python 3"
    },
    "language_info": {
      "name": "python"
    }
  },
  "cells": [
    {
      "cell_type": "code",
      "source": [
        "import numpy as np\n",
        "\n",
        "def my_bisection(f, a, b, tol):\n",
        "  # approximates a root, R, of f bounded\n",
        "  # by a and b to within tolerance\n",
        "  # | f(m) | < tol with m the midpoiint\n",
        "  # between a and b Recursive implementaion\n",
        "\n",
        "  #check if a and b bound a root\n",
        "  if np.sign(f(a)) == np.sign(f(b)):\n",
        "    raise Exception(\n",
        "        \"The Scalars a and b do not bound a root\")\n",
        "\n",
        "  # get midpoint  \n",
        "  m = (a+b)/2\n",
        "\n",
        "  if np.abs(f(m)) < tol:\n",
        "    #stopping condition, report m as a root\n",
        "    return m\n",
        "  elif np.sign(f(a)) == np.sign(f(m)):\n",
        "    #case where m is an improvement on a\n",
        "    #make recursive call with a = m\n",
        "    return my_bisection(f, m, b, tol)\n",
        "  elif np.sign(f(b)) == np.sign(f(m)):\n",
        "    #case where m is an improvement on b\n",
        "    #make recursive call with b = m\n",
        "    return my_bisection(f, a, m, tol)"
      ],
      "metadata": {
        "id": "0POOgPJi2OM3"
      },
      "execution_count": null,
      "outputs": []
    },
    {
      "cell_type": "code",
      "source": [
        "f = lambda x: x**2 - 2\n",
        "\n",
        "r1 = my_bisection(f, 0, 2, 0.1)\n",
        "print(\"r1 =\", r1)\n",
        "r01 = my_bisection(f, 0, 2, 0.01)\n",
        "print(\"r01 =\", r01)\n",
        "\n",
        "print(\"f(r1) =\", f(r1))\n",
        "print(\"f(r01) =\", f(r01))\n",
        "     "
      ],
      "metadata": {
        "id": "cOtJnGFt2N94"
      },
      "execution_count": null,
      "outputs": []
    },
    {
      "cell_type": "code",
      "source": [
        "r1 = 1.4375\n",
        "r01 = 1.4140625\n",
        "f(r1) = 0.06640625\n",
        "f(r01) = -0.00042724609375"
      ],
      "metadata": {
        "id": "JR7yFiOP2RU3"
      },
      "execution_count": null,
      "outputs": []
    },
    {
      "cell_type": "code",
      "source": [
        "plt.plot (x,y, 'ob')\n",
        "plt.plot(x_lin,y_lin, 'b') plt.plot (3.1, f(3.1), 'ro') plt.show ()\n",
        "\n",
        "plt.style.use('seaborn-poster')\n",
        "%matplotlib inline def divided _diff(x, y):\n",
        "function to calculate the divided differences table\n",
        "n = len(y)\n",
        "coef = np.zeros([n, n])\n",
        "a the first column is\n",
        "coef[:,@] = y\n",
        "for j in range(1,n):\n",
        "\n",
        "import numpy as np\n",
        "import matplotlib.pyplot as plt\n",
        "\n",
        "plt.style.use('seaborn- poster')\n",
        "\n",
        "%matplotlib inline\n",
        "def devided_diff(x,y)\n",
        "    '''\n",
        "    function to calculate the devided\n",
        "    differences table\n",
        "    '''\n",
        "    n = len👍\n",
        "    coef = np.zeros([n,n])\n",
        "\n",
        "    #the frist column is y\n",
        "    coef[:,0] = y\n",
        "\n",
        "    for j in range(1,n):\n",
        "      for i in range(n-j):\n",
        "        coef[i][j]= \\\n",
        "        (coef[i+1][j-1] - coef[i][j]) / (x[i+j]-x[i])\n",
        "\n",
        "    return coef\n",
        "\n",
        "def newton_poly(coed,x_data,x):\n",
        "    '''\n",
        "    evaluate the newton polynominal\n",
        "    at x\n",
        "    '''\n",
        "    n = len (x_data) - 1\n",
        "    p = coef[n]\n",
        "    for k in range(1,n+1):\n",
        "      p = coef[n-k] + (x -x_data[n-k])*p\n",
        "    return p\n",
        "    "
      ],
      "metadata": {
        "id": "1bJFj9layQH8"
      },
      "execution_count": null,
      "outputs": []
    },
    {
      "cell_type": "code",
      "source": [
        "import numpy as np from scipy import optimize import matplotlib.pyplot as pit\n",
        "plt.style.use(\"seaborn-poster')\n",
        "x = np. linspace(9, 1, 101)\n",
        "y = 1 + x + x * np.random.randon(Len (x))\n",
        "a assemble matrix A\n",
        "A = np.vstack([x, p.ones(len (x))]).T\n",
        "I turn y into a colum vector\n",
        "y = yl:, np.newaxis]\n",
        "a pirect least square regression\n",
        "alpha = np.dot((np.dot/np.linalg.invnp.dot (A.T,A)),A.T)),y)\n",
        "orint (alpha)"
      ],
      "metadata": {
        "id": "csRK_v_ByaiY"
      },
      "execution_count": null,
      "outputs": []
    },
    {
      "cell_type": "code",
      "source": [
        "port numpy as np \n",
        "from scipy import optimize \n",
        "import matplotlib.pyplot as plt\n",
        "\n",
        "plt.style.use('seaborn-poster')\n",
        "\n",
        "# generate x and y\n",
        "x = np.linspace(0,1,100)\n",
        "y = 1 + x + x * np.random.random(len(x))\n",
        "\n",
        "# assemble matrix A\n",
        "A = np.vstack([x, np.ones(len(x))]).T\n",
        "\n",
        "# turn y into a column vector\n",
        "y =y[:, np.newaxis]\n",
        "\n",
        "# direct least square regression\n",
        "alpha = np.dot ((np.dot(np.linalg.inv(np.dot(A.T,A)),A.T)),y)\n",
        "print(alpha) \n",
        "pinv = np.linalg.pinv (A)\n",
        "alpha = pinv.dot(y))\n",
        "print (alpha\n",
        "       # generate x and y\n",
        "x = np.linspace(0, 1, 191)\n",
        "y = 1 + x +\n",
        "x * np. random.random(Len (x))\n",
        "def func(x, a, b)\n",
        "y = a'x + b\n",
        "return y\n",
        "aloha = optimize.curve _fit(func, data = x,\n",
        ", ydata = y) [0]\n",
        "print(alpha)\n",
        " plat the results\n",
        "plt.figure(figsize = (10,8))\n",
        "pit.plot(x, Y, 'b.')\n",
        "pit.plot(x, alpha[e]*x + alpha(1], 'r') plt.xlabel('x') pit.ylabel('y') plt.show()\n",
        "[12) x = [0, 1, 2, 3, 4, 5]\n",
        "y = (1, 3, 3, 5, 2, 21\n",
        "[13) f = CubicSpline (x,y, bc _types'natural'\")\n",
        "x _cub = np.linspace(9,5,180)\n",
        "y_cub = f(x cub)\n",
        "y_ask = f(2.9)\n",
        "print (y_ask)\n",
        "5.000368421052631\n",
        "pit.plot(x,Y, 'bo')\n",
        "plt.plot(x_cub,y_cub, 'b')\n",
        "plt.plot (2.9, f(2.9), 'ro')"
      ],
      "metadata": {
        "id": "O4PALAaNyb2N"
      },
      "execution_count": null,
      "outputs": []
    },
    {
      "cell_type": "markdown",
      "source": [],
      "metadata": {
        "id": "asJXo1CIytHP"
      }
    },
    {
      "cell_type": "code",
      "source": [],
      "metadata": {
        "id": "lSOYnA032MyG"
      },
      "execution_count": null,
      "outputs": []
    }
  ]
}