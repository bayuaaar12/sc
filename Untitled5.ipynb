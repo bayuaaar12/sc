{
  "nbformat": 4,
  "nbformat_minor": 0,
  "metadata": {
    "colab": {
      "provenance": [],
      "authorship_tag": "ABX9TyNTNc4YfXK+XiJQhT9wD/yM",
      "include_colab_link": true
    },
    "kernelspec": {
      "name": "python3",
      "display_name": "Python 3"
    },
    "language_info": {
      "name": "python"
    }
  },
  "cells": [
    {
      "cell_type": "markdown",
      "metadata": {
        "id": "view-in-github",
        "colab_type": "text"
      },
      "source": [
        "<a href=\"https://colab.research.google.com/github/bayuaaar12/sc/blob/main/Untitled5.ipynb\" target=\"_parent\"><img src=\"https://colab.research.google.com/assets/colab-badge.svg\" alt=\"Open In Colab\"/></a>"
      ]
    },
    {
      "cell_type": "code",
      "execution_count": 2,
      "metadata": {
        "colab": {
          "base_uri": "https://localhost:8080/",
          "height": 131
        },
        "id": "VsL-YYIR619W",
        "outputId": "40e1fc91-36de-4539-8f5e-a9599576cb53"
      },
      "outputs": [
        {
          "output_type": "error",
          "ename": "SyntaxError",
          "evalue": "ignored",
          "traceback": [
            "\u001b[0;36m  File \u001b[0;32m\"<ipython-input-2-34bba7ea3bce>\"\u001b[0;36m, line \u001b[0;32m23\u001b[0m\n\u001b[0;31m    label = 'Finite difference approximation\")\u001b[0m\n\u001b[0m            ^\u001b[0m\n\u001b[0;31mSyntaxError\u001b[0m\u001b[0;31m:\u001b[0m unterminated string literal (detected at line 23)\n"
          ]
        }
      ],
      "source": [
        "import numpy as np\n",
        "import matplotlib.pyplot as plt\n",
        "plt.style.use('seaborn-poster')\n",
        "%matplotlib inline\n",
        "\n",
        "#step size\n",
        "h\n",
        "= 0.1\n",
        "#define grid\n",
        "= np. arange (9,2-np. pi,h)\n",
        "#compute Lunction\n",
        "= пр.cos (x)\n",
        "\n",
        "# compute vector of forward difference=\n",
        "forward diff = np.diff(y) /h\n",
        "#compute corresponding grid\n",
        "x dift = x[: a:1]\n",
        "#compate exace solation\n",
        "exact solution =-hp.sin(x_diff)\n",
        "#Plot solution\n",
        "plt. figure (figsize = (12,8))\n",
        "plt-plot (x diff.forward_diff,'--',\\\n",
        "label = 'Finite difference approximation\")\n",
        "pit.plot (x_diff,exact_solution,\n",
        "label =\"Exact solution\")\n",
        "plt. legend()\n",
        "plt. show ()\n",
        "# Compute maxi errori betreen\n",
        "# numerical derivative and exact solution\n",
        "max error = max (abs(exact solution -\n",
        "forward diff))\n",
        "print(max error)"
      ]
    },
    {
      "cell_type": "code",
      "source": [
        "import numpy as np\n",
        "\n",
        "a = 0\n",
        "n = 11\n",
        "b = np.pi\n",
        "h = (b - a) / (n - 1)\n",
        "x = np.linspace (a, b, n) \n",
        "f = np.sin(x)\n",
        "\n",
        "I_trap = (h/2)*(f[0] + \\\n",
        "         2 * sum(f[1:n-1])+ f[n-1])\n",
        "err_trap = 2- I_trap\n",
        "\n",
        "print(I_trap)\n",
        "print(err_trap)"
      ],
      "metadata": {
        "colab": {
          "base_uri": "https://localhost:8080/"
        },
        "id": "WL0aYSo_-CRN",
        "outputId": "594c7fde-9aab-4626-cb37-f5dc7ac4d731"
      },
      "execution_count": 18,
      "outputs": [
        {
          "output_type": "stream",
          "name": "stdout",
          "text": [
            "1.9835235375094546\n",
            "0.01647646249054535\n"
          ]
        }
      ]
    },
    {
      "cell_type": "code",
      "source": [
        "import numpy as np \n",
        "from scipy.integrate import trapz\n",
        "\n",
        "a = 0\n",
        "n = 11\n",
        "b = np.pi\n",
        "h = (b - a) / (n - 1)\n",
        "x = np.linspace (a, b, n) \n",
        "f = np.sin(x)\n",
        "\n",
        "I_trapz = trapz (f, x)\n",
        "I_trap = (h/2) * (f[0] + 2 * sum(f[1:n-1] ) + f[n-1])\n",
        "print (I_trapz)\n",
        "print (I_trap)\n"
      ],
      "metadata": {
        "colab": {
          "base_uri": "https://localhost:8080/"
        },
        "id": "qGNHI1I_CJz7",
        "outputId": "20499131-0c8d-42dc-ac2f-8a94cdfe8953"
      },
      "execution_count": 20,
      "outputs": [
        {
          "output_type": "stream",
          "name": "stdout",
          "text": [
            "1.9835235375094544\n",
            "1.9835235375094546\n"
          ]
        }
      ]
    },
    {
      "cell_type": "code",
      "source": [],
      "metadata": {
        "id": "a-FXJV9KGDrl"
      },
      "execution_count": null,
      "outputs": []
    },
    {
      "cell_type": "code",
      "source": [
        "from scipy.integrate import quad\n",
        "\n",
        "I_quad, est_err_quad = \\\n",
        "           quad (np. sin,0,np.pi)\n",
        "print(I_quad)\n",
        "err_quad = 2 - I_quad\n",
        "print(est_err_quad, err_quad)\n"
      ],
      "metadata": {
        "colab": {
          "base_uri": "https://localhost:8080/"
        },
        "id": "cinCVPymDx9s",
        "outputId": "4b4c4919-0899-4998-ded9-cf2c4256ccde"
      },
      "execution_count": 22,
      "outputs": [
        {
          "output_type": "stream",
          "name": "stdout",
          "text": [
            "2.0\n",
            "2.220446049250313e-14 0.0\n"
          ]
        }
      ]
    },
    {
      "cell_type": "code",
      "source": [
        "[9] \n",
        "import numpy as np\n",
        "\n",
        "a = 0\n",
        "b = np.pi\n",
        "n = 11\n",
        "h = (b - a) / (n - 1)\n",
        "x = np.linspace(a, b, n)\n",
        "f = np.sin(x)\n",
        "I_simp = (h/3) *(f[0] + 2*sum(f[:n-2:2]) \\\n",
        "+ 4* sum(f[1:n-1:2]) + f[n-1])\n",
        "err_simp = 2 - I_simp\n",
        "print(I_simp)\n",
        "print(err_simp)"
      ],
      "metadata": {
        "colab": {
          "base_uri": "https://localhost:8080/"
        },
        "id": "3ILiimcqGF6R",
        "outputId": "2bb11d85-d3dd-4df2-a4b5-acb217be43aa"
      },
      "execution_count": 27,
      "outputs": [
        {
          "output_type": "stream",
          "name": "stdout",
          "text": [
            "2.0001095173150043\n",
            "-0.00010951731500430384\n"
          ]
        }
      ]
    },
    {
      "cell_type": "code",
      "source": [
        "#Rieman Kiri dan Kanan import numpy as np\n",
        "a = 0\n",
        "b = np.pi\n",
        "n = 11\n",
        "h = (b - a) / (n - 1)\n",
        "x = np.linspace(a, b, n)\n",
        "f = np.sin(x)\n",
        "\n",
        "I_riemannL = h * sum(f[:n-1])\n",
        "err_riemannL = 2 - I_riemannL\n",
        "\n",
        "I_riemannR = h * sum(f[1::1])\n",
        "err_riemannR = 2 - I_riemannR\n",
        "\n",
        "I_mid = h * sum(np.sin((x[:n-1] \\\n",
        "        + x[1:])/2))\n",
        "err_mid = 2 - I_mid\n",
        "\n",
        "print(I_riemannL)\n",
        "print(err_riemannL)\n",
        "\n",
        "print(I_riemannR)\n",
        "print(err_riemannR)\n",
        "\n",
        "print(I_mid)\n",
        "print(err_mid)"
      ],
      "metadata": {
        "colab": {
          "base_uri": "https://localhost:8080/"
        },
        "id": "oGx3BhCLIqG_",
        "outputId": "981ae1f8-624d-4d95-88da-41b89aa9dbae"
      },
      "execution_count": 33,
      "outputs": [
        {
          "output_type": "stream",
          "name": "stdout",
          "text": [
            "1.9835235375094546\n",
            "0.01647646249054535\n",
            "1.9835235375094546\n",
            "0.01647646249054535\n",
            "2.0082484079079745\n",
            "-0.008248407907974542\n"
          ]
        }
      ]
    },
    {
      "cell_type": "code",
      "source": [],
      "metadata": {
        "id": "jJECcHmwKSzs"
      },
      "execution_count": null,
      "outputs": []
    }
  ]
}